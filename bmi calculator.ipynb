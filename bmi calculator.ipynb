{
 "cells": [
  {
   "cell_type": "code",
   "execution_count": 31,
   "id": "1ba18267-04c6-4996-9d04-63eebdcec9a2",
   "metadata": {},
   "outputs": [
    {
     "name": "stdin",
     "output_type": "stream",
     "text": [
      "Enter your name:  eliza\n",
      "Enter your weight in kilograms:  57\n",
      "Enter your weight in meters:  1.65\n"
     ]
    },
    {
     "name": "stdout",
     "output_type": "stream",
     "text": [
      "20.936639118457304\n",
      "eliza, you have normal weight\n"
     ]
    }
   ],
   "source": [
    "name = input('Enter your name: ')\n",
    "weight = float(input('Enter your weight in kilograms: '))\n",
    "height = float(input('Enter your weight in meters: '))\n",
    "BMI = (weight)/(height*height)\n",
    "print(BMI)\n",
    "if BMI > 0:\n",
    "    if(BMI<18.5):\n",
    "        print(name + ', you are underweight')\n",
    "    elif(BMI<=24.9):\n",
    "        print(name + ', you have normal weight')\n",
    "    elif(BMI<29.9):\n",
    "        print(name + ', you are overweight')\n",
    "    elif(BMI<34.9):\n",
    "        print(name + ', you are obese')\n",
    "    elif(BMI<39.9):\n",
    "        print(name + ', you are severly obese')\n",
    "    else:\n",
    "        print(name + ', you are morbidly obese')\n",
    "else:\n",
    "    print('Enter correct data')\n",
    "  \n",
    "   \n",
    "\n"
   ]
  }
 ],
 "metadata": {
  "kernelspec": {
   "display_name": "Python 3 (ipykernel)",
   "language": "python",
   "name": "python3"
  },
  "language_info": {
   "codemirror_mode": {
    "name": "ipython",
    "version": 3
   },
   "file_extension": ".py",
   "mimetype": "text/x-python",
   "name": "python",
   "nbconvert_exporter": "python",
   "pygments_lexer": "ipython3",
   "version": "3.12.4"
  }
 },
 "nbformat": 4,
 "nbformat_minor": 5
}
